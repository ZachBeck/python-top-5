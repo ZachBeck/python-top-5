{
  "nbformat": 4,
  "nbformat_minor": 0,
  "metadata": {
    "colab": {
      "name": "top-5-python.ipynb",
      "version": "0.3.2",
      "provenance": [],
      "collapsed_sections": [],
      "toc_visible": true,
      "include_colab_link": true
    },
    "kernelspec": {
      "name": "python3",
      "display_name": "Python 3"
    }
  },
  "cells": [
    {
      "cell_type": "markdown",
      "metadata": {
        "id": "view-in-github",
        "colab_type": "text"
      },
      "source": [
        "<a href=\"https://colab.research.google.com/github/ZachBeck/python-top-5/blob/master/top_5_python.ipynb\" target=\"_parent\"><img src=\"https://colab.research.google.com/assets/colab-badge.svg\" alt=\"Open In Colab\"/></a>"
      ]
    },
    {
      "cell_type": "markdown",
      "metadata": {
        "id": "gKKIABgAhCCP",
        "colab_type": "text"
      },
      "source": [
        "#**Top** 5 Tips For Getting Started With Python"
      ]
    },
    {
      "cell_type": "markdown",
      "metadata": {
        "id": "zyxobbbphS0q",
        "colab_type": "text"
      },
      "source": [
        "#1 - String Manipulation\n",
        "\n",
        "###Strings in Python use zero based indexing. This indexing can be used to return a single value or a substring using a slice."
      ]
    },
    {
      "cell_type": "markdown",
      "metadata": {
        "id": "gwK5fXgTWKax",
        "colab_type": "text"
      },
      "source": [
        "####**StrVar = '123456789**'\n",
        "\n",
        "**strVar[0]**   &nbsp; &nbsp;  return the first character of the variable\n",
        "\n",
        "**strVar[-2]**  &nbsp; &nbsp;   return the second to last character\n",
        "\n",
        "**strVar[:3]**   &nbsp;  &nbsp;   return the first 3 characters\n",
        "\n",
        "**strVar[-3:]** &nbsp; &nbsp;  return the last three characters\n",
        "\n",
        "**strVar[3:]**   &nbsp; &nbsp;  return all but the first three characters\n",
        "\n",
        "**strVar[2:4]**   &nbsp; &nbsp;  return the third and forth characters"
      ]
    },
    {
      "cell_type": "code",
      "metadata": {
        "id": "jvSiiL2-kIqy",
        "colab_type": "code",
        "colab": {}
      },
      "source": [
        "strVar = '123456789'\n",
        "print ('I am the second to last character ' + strVar[-2])\n",
        "print ('I am the first three characters ' + strVar[:3])\n",
        "print ('I am the last four characters ' + strVar[-4:])\n",
        "print ('I am all but the first three characters ' + strVar[3:])\n",
        "print ('I am the middle 3 characters ' + strVar[3:6])\n"
      ],
      "execution_count": 0,
      "outputs": []
    },
    {
      "cell_type": "markdown",
      "metadata": {
        "colab_type": "text",
        "id": "tV70k1kmPK1t"
      },
      "source": [
        "###Useful String Methods\n",
        "####label = 'US Hwy 40'\n",
        "**label.upper()** &nbsp; &nbsp;  convert a string to uppercase\n",
        "\n",
        "**label.replace()**  &nbsp; &nbsp; replace a substring within a string\n",
        "\n",
        "**label.strip()**   &nbsp; &nbsp; remove a substring or spaces from the start or end of a string\n",
        "\n",
        "**label.split()**  &nbsp; &nbsp; split a string into a list based on a split character(s)\n",
        "\n",
        "**label.endswith()**  &nbsp; &nbsp; return True if the string endswith a specified value\n",
        "\n",
        "**f'{}'**  &nbsp; &nbsp;  concatenate elements into a string based on defined positions\n",
        "\n",
        "\n",
        "**More string methods can be found** [here](https://www.w3schools.com/python/python_ref_string.asp)"
      ]
    },
    {
      "cell_type": "code",
      "metadata": {
        "colab_type": "code",
        "id": "IRn7np0GOsvM",
        "colab": {}
      },
      "source": [
        "label = 'US Hwy 40'\n",
        "replacelbl = label.replace('US', 'U.S.')\n",
        "print (replacelbl)"
      ],
      "execution_count": 0,
      "outputs": []
    },
    {
      "cell_type": "code",
      "metadata": {
        "colab_type": "code",
        "id": "2AClR08gOsvF",
        "colab": {}
      },
      "source": [
        "label = 'US Hwy 40'\n",
        "strpLbl = label.strip('US ')\n",
        "print (strpLbl)"
      ],
      "execution_count": 0,
      "outputs": []
    },
    {
      "cell_type": "code",
      "metadata": {
        "colab_type": "code",
        "id": "v1doKb0eOsu1",
        "colab": {}
      },
      "source": [
        "##Be carful with what you strip\n",
        "text = 'State St'\n",
        "print (text.strip('cSt'))"
      ],
      "execution_count": 0,
      "outputs": []
    },
    {
      "cell_type": "code",
      "metadata": {
        "colab_type": "code",
        "id": "IKj4te14Osut",
        "colab": {}
      },
      "source": [
        "label = 'US Hwy 40'\n",
        "spltLbl = label.split()\n",
        "print (spltLbl)\n",
        "print (label.split('Hwy'))"
      ],
      "execution_count": 0,
      "outputs": []
    },
    {
      "cell_type": "code",
      "metadata": {
        "colab_type": "code",
        "id": "wL6qX8lEOsuj",
        "colab": {}
      },
      "source": [
        "label = 'US Hwy 40'\n",
        "spltLbl = label.split()[-1]\n",
        "print (spltLbl)"
      ],
      "execution_count": 0,
      "outputs": []
    },
    {
      "cell_type": "code",
      "metadata": {
        "colab_type": "code",
        "id": "FMwh-QqCOsuZ",
        "colab": {}
      },
      "source": [
        "label = 'US Hwy 40'\n",
        "print (label.split()[2])"
      ],
      "execution_count": 0,
      "outputs": []
    },
    {
      "cell_type": "code",
      "metadata": {
        "colab_type": "code",
        "id": "McC8na9dOsuO",
        "colab": {}
      },
      "source": [
        "label = 'US Hwy 40'\n",
        "if label.endswith('40') == True:\n",
        "    label = label.split()\n",
        "    newLbl = '{} {}'.format(label[0], label[2])\n",
        "print (newLbl)"
      ],
      "execution_count": 0,
      "outputs": []
    },
    {
      "cell_type": "markdown",
      "metadata": {
        "colab_type": "text",
        "id": "FLyWPzkBOsuA"
      },
      "source": [
        "[Calculate Field Example](https://drive.google.com/file/d/1yJE11EGGivv6h1SNurCOjhSFopBG9Nw4/view?usp=sharing)"
      ]
    },
    {
      "cell_type": "markdown",
      "metadata": {
        "id": "mxKOcvkyN8Yq",
        "colab_type": "text"
      },
      "source": [
        "#2 - Lists\n",
        "###Lists are comma separated values within square brackets. Lists can be created with items when the variable is assigned or they can be empty and items assigned later."
      ]
    },
    {
      "cell_type": "code",
      "metadata": {
        "id": "EqQsLxUOSmKj",
        "colab_type": "code",
        "colab": {}
      },
      "source": [
        "list = ['Rd', 'St', 'Hwy', 'Ln', 'Ave']\n",
        "list2 = []"
      ],
      "execution_count": 0,
      "outputs": []
    },
    {
      "cell_type": "markdown",
      "metadata": {
        "id": "12YBmZ9bWhi7",
        "colab_type": "text"
      },
      "source": [
        "####Indexing and slicing lists is similar to strings"
      ]
    },
    {
      "cell_type": "code",
      "metadata": {
        "id": "z65019a_WrFq",
        "colab_type": "code",
        "colab": {}
      },
      "source": [
        "typeList = ['Rd', 'St', 'Hwy', 'Ln', 'Ave']\n",
        "\n",
        "print (typeList[1])\n",
        "print (typeList[-1])\n",
        "print (typeList[:4])"
      ],
      "execution_count": 0,
      "outputs": []
    },
    {
      "cell_type": "markdown",
      "metadata": {
        "id": "Y9PHTzC6TFQ3",
        "colab_type": "text"
      },
      "source": [
        "####Items can be appended to lists"
      ]
    },
    {
      "cell_type": "code",
      "metadata": {
        "id": "giiFfzMyTMld",
        "colab_type": "code",
        "colab": {}
      },
      "source": [
        "typeList = ['Rd', 'St', 'Hwy', 'Ln', 'Ave']\n",
        "\n",
        "if 'Way' not in typeList:\n",
        "  typeList.append('Way')\n",
        "print (typeList)"
      ],
      "execution_count": 0,
      "outputs": []
    },
    {
      "cell_type": "markdown",
      "metadata": {
        "id": "U_6KnhAZT8gG",
        "colab_type": "text"
      },
      "source": [
        "####Lists can be sorted"
      ]
    },
    {
      "cell_type": "code",
      "metadata": {
        "id": "go3lCOPHYtCA",
        "colab_type": "code",
        "colab": {}
      },
      "source": [
        "typeList = ['Rd', 'St', 'Hwy', 'Ln', 'Ave']\n",
        "\n",
        "typeList.sort()\n",
        "print (typeList)"
      ],
      "execution_count": 0,
      "outputs": []
    },
    {
      "cell_type": "markdown",
      "metadata": {
        "id": "1NfDxrHcU6oM",
        "colab_type": "text"
      },
      "source": [
        "####Lists are iterable"
      ]
    },
    {
      "cell_type": "code",
      "metadata": {
        "id": "yVRa4fvsU_Dg",
        "colab_type": "code",
        "colab": {}
      },
      "source": [
        "typeList = ['Rd', 'St', 'Hwy', 'Ln', 'Ave']\n",
        "\n",
        "for type in typeList:\n",
        "  print (type)\n",
        "  if type == 'Hwy':\n",
        "    print (type + ' Was found')"
      ],
      "execution_count": 0,
      "outputs": []
    },
    {
      "cell_type": "markdown",
      "metadata": {
        "id": "aGHspEyooixK",
        "colab_type": "text"
      },
      "source": [
        "**More on lists** [here](https://www.w3schools.com/python/python_lists.asp)"
      ]
    },
    {
      "cell_type": "markdown",
      "metadata": {
        "id": "NGFN1WCtwQNd",
        "colab_type": "text"
      },
      "source": [
        "#3 - arcpy Cursors\n",
        "###Cursors allow you to iterate through the rows of a table and search, insert or update rows."
      ]
    },
    {
      "cell_type": "markdown",
      "metadata": {
        "id": "5sFy0qQp1rUb",
        "colab_type": "text"
      },
      "source": [
        "[**arcpy.da.SearchCursor**](https://pro.arcgis.com/en/pro-app/arcpy/data-access/searchcursor-class.htm) &nbsp; Read only access of the records/geometry of a feature class or table.\n",
        "\n",
        "[**arcpy.da.InsertCursor**](https://pro.arcgis.com/en/pro-app/arcpy/data-access/insertcursor-class.htm) &nbsp; Write access cursor. A new row will be added in a feature class or table.\n",
        "\n",
        "[**arcpy.da.UpdateCursor**](https://pro.arcgis.com/en/pro-app/arcpy/data-access/updatecursor-class.htm) &nbsp; Read/write access in a feature class or table."
      ]
    },
    {
      "cell_type": "code",
      "metadata": {
        "id": "jSM4QDhAjINv",
        "colab_type": "code",
        "colab": {}
      },
      "source": [
        "#import arcpy\n",
        "\n",
        "#input feature class and fields for search cursor\n",
        "inFeatures = r'C:\\TEMP\\Munis.gdb\\municipalities'\n",
        "inFields = ['NAME', 'COUNTYSEAT', 'POPLASTEST', 'SHAPE@']\n",
        "\n",
        "#feature class and fields for insert cursor\n",
        "outFeatures = r'C:\\TEMP\\Munis.gdb\\CountySeats_Large'\n",
        "outFields = ['MuniName', 'Population', 'SHAPE@']\n",
        "\n",
        "#check to see if features exist in feature class before\n",
        "#insert cursor. If features exist, delete them. We don't\n",
        "#want duplicate polygons.\n",
        "\n",
        "featureCount = arcpy.GetCount_management(outFeatures)\n",
        "if featureCount > 0:\n",
        "    arcpy.TruncateTable_management(outFeatures)\n",
        "    print ('Deleted {} polys from {}'.format(featureCount, outFeatures.split('\\\\')[-1]))\n",
        "\n",
        "#syntax A\n",
        "#iCursor = arcpy.da.InsertCursor(outFeatures, outFields)\n",
        "#with arcpy.da.SearchCursor(inFeatures, inFields) as sCursor:\n",
        "\n",
        "#syntax B\n",
        "with arcpy.da.SearchCursor(inFeatures, inFields) as sCursor, \\\n",
        "  arcpy.da.InsertCursor(outFeatures, outFields) as iCursor:\n",
        "\n",
        "  for row in sCursor:\n",
        "\n",
        "    muniName = row[0].upper()\n",
        "    if muniName.startswith('ST.'):\n",
        "       muniName = muniName.replace('ST.', 'SAINT')\n",
        "\n",
        "    seat = row[1]\n",
        "    pop = row[2]\n",
        "    shp = row[3]\n",
        "\n",
        "    if seat == 1 and pop > 30000:\n",
        "\n",
        "      print muniName\n",
        "      iCursor.insertRow((muniName, pop, shp))\n",
        "\n",
        "#use with syntax A\n",
        "#del iCursor"
      ],
      "execution_count": 0,
      "outputs": []
    },
    {
      "cell_type": "markdown",
      "metadata": {
        "id": "c04oZGG2fU0b",
        "colab_type": "text"
      },
      "source": [
        "[Download data and script for the example above.](https://drive.google.com/open?id=1yXMEvPhx9j7nsGNgwgjWJZhLmxd0nebt)"
      ]
    },
    {
      "cell_type": "markdown",
      "metadata": {
        "id": "dkBegUitgJWX",
        "colab_type": "text"
      },
      "source": [
        "#4 - Dictionaries\n",
        "### A dictionary is a collection of key-value pairs. Keys in dictionaries are unordered, can be changed, and are unique.\n",
        "\n",
        "####dct = {key:value}"
      ]
    },
    {
      "cell_type": "code",
      "metadata": {
        "id": "fa318nKfZFqT",
        "colab_type": "code",
        "colab": {}
      },
      "source": [
        "d = {'perennial':'stream'}\n",
        "print (d['perennial'])"
      ],
      "execution_count": 0,
      "outputs": []
    },
    {
      "cell_type": "code",
      "metadata": {
        "id": "nJAJzepKtOjO",
        "colab_type": "code",
        "colab": {}
      },
      "source": [
        "dct = {'Rd':'ROAD', 'Ln':'LANE', 'Ave': 'AVENUE', 'Hwy':'HIGHWAY'}\n",
        "\n",
        "#or\n",
        "\n",
        "dct = {\n",
        "  'Rd':'ROAD',\n",
        "  'Ln':'LANE',\n",
        "  'Ave': 'AVENUE',\n",
        "  'Hwy':'HIGHWAY'\n",
        "}"
      ],
      "execution_count": 0,
      "outputs": []
    },
    {
      "cell_type": "code",
      "metadata": {
        "id": "-29eU5Ghubqc",
        "colab_type": "code",
        "colab": {}
      },
      "source": [
        "dct = {'Rd':'ROAD', 'Ln':'LANE', 'Ave': 'AVENUE', 'Hwy':'HIGHWAY'}\n",
        "\n",
        "#iterate through dictionary and return the key\n",
        "for d in dct:\n",
        "  print ('{} is the key'.format(d))\n",
        "  \n",
        "#iterate through and return the value\n",
        "for d in dct:\n",
        "  print (dct[d])\n",
        "  #print ('{} is the value'.format(d))"
      ],
      "execution_count": 0,
      "outputs": []
    },
    {
      "cell_type": "markdown",
      "metadata": {
        "id": "CYDWWOQ5f-_M",
        "colab_type": "text"
      },
      "source": [
        "####Adding items to a dictionary"
      ]
    },
    {
      "cell_type": "code",
      "metadata": {
        "id": "zP2njDFxgGU6",
        "colab_type": "code",
        "colab": {}
      },
      "source": [
        "dct = {'S':'South', 'E':'East'}\n",
        "\n",
        "#Add key W and value West\n",
        "dct['W'] = 'West'\n",
        "\n",
        "#or\n",
        "\n",
        "#Add key NW with no value\n",
        "dct.setdefault('NW')\n",
        "#print (dct)\n",
        "\n",
        "#lists can be added to a dictionary key\n",
        "\n",
        "direction = ['North', 'No', 'Nrth']\n",
        "\n",
        "dct['N'] = direction\n",
        "print (dct)\n",
        "print (dct['N'][1])"
      ],
      "execution_count": 0,
      "outputs": []
    },
    {
      "cell_type": "markdown",
      "metadata": {
        "id": "Td1AOlV94yug",
        "colab_type": "text"
      },
      "source": [
        "####More on dictionaries [here](https://www.tutorialspoint.com/python/python_dictionary.htm)"
      ]
    },
    {
      "cell_type": "markdown",
      "metadata": {
        "id": "Ii8hq9Bx9Dze",
        "colab_type": "text"
      },
      "source": [
        "#5 - Functions\n",
        "\n",
        "###A function is a block of resuable code that preforms a specific action when called. Functions are used to organize code into smaller, more manageable components and minimize redundancy.\n",
        "\n",
        "#### def functionName():\n",
        "\n",
        "Label expression [example](https://photos.google.com/photo/AF1QipMxqtZBtKGR-3Xiv7ka1Lk_9HR2zXFiHnf-PVUJ) or calculate global id [example](https://photos.google.com/photo/AF1QipPwE7FChMsQHbK2xGxCDd4toY13PwM79CWc9FG9)\n"
      ]
    },
    {
      "cell_type": "code",
      "metadata": {
        "id": "tACZh7LGayFh",
        "colab_type": "code",
        "colab": {}
      },
      "source": [
        "def changeWord(word):\n",
        "  return 'something new'\n",
        "\n",
        "\n",
        "a = 'old'\n",
        "\n",
        "print (changeWord(a))"
      ],
      "execution_count": 0,
      "outputs": []
    },
    {
      "cell_type": "code",
      "metadata": {
        "id": "Vr3yFAAhgGdD",
        "colab_type": "code",
        "colab": {}
      },
      "source": [
        "def removeBadValues(word, errorList):\n",
        "  if word in errorList:\n",
        "    word = ''\n",
        "  return word\n",
        "\n",
        "\n",
        "badList = [None, '!', '???', 'fix']\n",
        "lst = ['North', 'South', '!', 'East', 'fix', 'West']\n",
        "\n",
        "for l in lst:\n",
        "  l = removeBadValues(l, badList)\n",
        "  print (l)\n",
        "\n"
      ],
      "execution_count": 0,
      "outputs": []
    },
    {
      "cell_type": "code",
      "metadata": {
        "id": "bK00sb-Uqbls",
        "colab_type": "code",
        "colab": {}
      },
      "source": [
        "#Run outside of COLAB with data downloaded from cursor section\n",
        "import arcpy\n",
        "\n",
        "def checkRequiredFields(inFeatures, requiredFlds):\n",
        "\n",
        "    inFeatureFields = [(f.name).encode('ascii') for f in arcpy.ListFields(fc)]\n",
        "\n",
        "    for fld in requiredFlds:\n",
        "        if fld not in inFeatureFields:\n",
        "            sys.exit(fld + ' Is a requided field')\n",
        "        \n",
        "    print ('All fields present')\n",
        "\n",
        "    \n",
        "fc = r'C:\\TEMP\\cursors\\Munis.gdb\\municipalities'\n",
        "required = ['NAME', 'COUNTYSEAT', 'POPLASTEST', 'GNIS']\n",
        "\n",
        "checkRequiredFields(fc, required)"
      ],
      "execution_count": 0,
      "outputs": []
    },
    {
      "cell_type": "markdown",
      "metadata": {
        "colab_type": "text",
        "id": "zsrgvhWhVBC0"
      },
      "source": [
        "####More on functions [here](https://www.tutorialspoint.com/python/python_functions.htm) or [here](https://www.w3schools.com/python/python_functions.asp)"
      ]
    }
  ]
}
